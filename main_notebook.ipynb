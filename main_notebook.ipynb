{
 "cells": [
  {
   "cell_type": "code",
   "execution_count": 1,
   "metadata": {},
   "outputs": [],
   "source": [
    "import matplotlib.pyplot as plt\n",
    "import numpy as np\n",
    "import pandas as pd\n",
    "import os\n",
    "\n",
    "#my modules\n",
    "from utilities import *\n",
    "from nn_arch_MF import *\n",
    "\n",
    "#required for RF\n",
    "import random\n",
    "from sklearn.ensemble import RandomForestClassifier"
   ]
  },
  {
   "cell_type": "markdown",
   "metadata": {},
   "source": [
    "# Problem Formulation"
   ]
  },
  {
   "cell_type": "markdown",
   "metadata": {},
   "source": [
    "A database of the Balance Sheet of 10.000 German companies (mostly SMEs) is given, covering 3 years (2016-2018).\n",
    "Each entry comprises 22 Balance Sheet accounts and the estimated rating classes provided by Mode Finance (MORE evaluation - Score 20xx). \n",
    "\n",
    "In this work we assume that the given Credit Rating score is the \"correct\" one, and we will investigate possible solutions to estimate it in the case of missing input data.\n",
    "\n",
    "\n",
    "The hierarchical structure of these accounts is shown in the picture."
   ]
  },
  {
   "cell_type": "code",
   "execution_count": 2,
   "metadata": {},
   "outputs": [
    {
     "data": {
      "text/plain": [
       "'\\ndf1 = pd.read_pickle(\\'full_database.pkl\\')\\nsingle_year_columns = df1.columns[df1.columns.to_series().str.contains(\\'2016\\')]\\nprint(*single_year_columns, sep = \"\\n\")\\n'"
      ]
     },
     "execution_count": 2,
     "metadata": {},
     "output_type": "execute_result"
    }
   ],
   "source": [
    "# Below the list of features (and label) for year 2016.\n",
    "\"\"\"\n",
    "df1 = pd.read_pickle('full_database.pkl')\n",
    "single_year_columns = df1.columns[df1.columns.to_series().str.contains('2016')]\n",
    "print(*single_year_columns, sep = \"\\n\")\n",
    "\"\"\""
   ]
  },
  {
   "cell_type": "code",
   "execution_count": 3,
   "metadata": {},
   "outputs": [
    {
     "data": {
      "image/png": "[encoded data removed]",
      "text/plain": [
       "<IPython.core.display.Image object>"
      ]
     },
     "execution_count": 3,
     "metadata": {},
     "output_type": "execute_result"
    }
   ],
   "source": [
    "from ete3 import Tree, TreeStyle, TextFace, add_face_to_node\n",
    "df =  pd.read_csv('bs_tree.csv', delimiter=\";\")\n",
    "\n",
    "#function \"add_item\"\n",
    "def add_item(t,entry):\n",
    "    try:\n",
    "        if type(entry[0]) == str:\n",
    "            for child in t.get_children():\n",
    "                if  entry[0] == child.name:\n",
    "                    add_item(child,entry[1:])\n",
    "                    return\n",
    "            t.add_child(name=entry[0])\n",
    "            add_item(t.get_children()[-1],entry[1:])\n",
    "    except:\n",
    "        return\n",
    "\n",
    "#define layout\n",
    "ts = TreeStyle()\n",
    "ts.show_leaf_name = False\n",
    "def my_layout(node):\n",
    "        F = TextFace(node.name, tight_text=False)\n",
    "        add_face_to_node(F, node, column=0, aligned = False, position=\"branch-right\")\n",
    "ts.layout_fn = my_layout\n",
    "\n",
    "#build tree \n",
    "t = Tree('Balance Sheet;')\n",
    "for row in df.itertuples(): \n",
    "    add_item(t,row[1:])\n",
    "#show tree\n",
    "t.render(\"%%inline\",tree_style=ts)  "
   ]
  },
  {
   "cell_type": "code",
   "execution_count": 4,
   "metadata": {},
   "outputs": [],
   "source": [
    "level_1_mask = ['Fixed assets', 'Current assets', 'Shareholders funds', 'Non-current liabilities', 'Current liabilities']\n",
    "level_2_mask = ['Intangible fixed assets','Tangible fixed assets','Other fixed assets','Stock' ,'Debtors' ,'Other current assets','Capital','Other shareholders funds','Long term debt','Other non-current liabilities' ,'Loans' ,'Creditors','Other current liabilities' ]"
   ]
  },
  {
   "cell_type": "markdown",
   "metadata": {},
   "source": [
    "Some pre-processing was required, os the original database has been modified as follows:\n",
    "\n",
    "- each year is considered separately, so the database appears one of 30.000 separate companies\n",
    "\n",
    "- the databse is extended to include the \"Section\" code (NACE classification) for each company. This categorical entry is one-hot encoded to train  NN and Random Forest classifier\n",
    "\n",
    "- an addditional database is created with financial ratios derived from the Balance Sheet information (described in PART 2)\n",
    "\n",
    "- in both cases only SME are considered, by selecting companies with Total Assets < 43M (according to German regulation). SME account for >98% of the database"
   ]
  },
  {
   "cell_type": "markdown",
   "metadata": {},
   "source": [
    "## Missing Features Statistics"
   ]
  },
  {
   "cell_type": "markdown",
   "metadata": {},
   "source": [
    "The database is first analyzed in terms of missing data (SME only).\n",
    "\n",
    "The \"Level 1\" (Fixed assets, Current assets, Shareholders funds, Non-current liabilities, Current liabilities) don't present systematic trends of missing data, since their publication is mandatory by law.\n",
    "Therefore we concentrate on \"Level 2\" items."
   ]
  },
  {
   "cell_type": "code",
   "execution_count": 5,
   "metadata": {},
   "outputs": [],
   "source": [
    "# use data_handler Class to load training and test data\n",
    "dh_0 = DataHandler()\n",
    "dh_0.complete_only = False\n",
    "dh_0.incomplete_only = False\n",
    "dh_0.full_db = True\n",
    "dh_0.fill_nans_as_zeros = False\n",
    "dh_0.ratios_db = False          #if True: uses ratios DB instead\n",
    "dh_0.SME_only = True\n",
    "dh_0.NACE_classification = False\n",
    "\n",
    "df_0_X,df0_y = dh_0.load_as_pandas()"
   ]
  },
  {
   "cell_type": "code",
   "execution_count": 6,
   "metadata": {},
   "outputs": [
    {
     "data": {
      "text/plain": [
       "Fixed assets               0.00\n",
       "Current assets             0.00\n",
       "Shareholders funds         0.01\n",
       "Non-current liabilities    0.00\n",
       "Current liabilities        0.00\n",
       "dtype: float64"
      ]
     },
     "execution_count": 6,
     "metadata": {},
     "output_type": "execute_result"
    }
   ],
   "source": [
    "# percentage of Level 1 missing data by column\n",
    "round(df_0_X[level_1_mask].isnull().sum()/df_0_X[level_1_mask].shape[0]*100,2)"
   ]
  },
  {
   "cell_type": "code",
   "execution_count": 7,
   "metadata": {},
   "outputs": [
    {
     "data": {
      "text/plain": [
       "Intangible fixed assets           2.13\n",
       "Tangible fixed assets             2.13\n",
       "Other fixed assets                2.13\n",
       "Stock                             0.81\n",
       "Debtors                           0.81\n",
       "Other current assets              0.20\n",
       "Capital                           1.92\n",
       "Other shareholders funds          2.01\n",
       "Long term debt                    0.11\n",
       "Other non-current liabilities     0.11\n",
       "Loans                            43.01\n",
       "Creditors                        42.94\n",
       "Other current liabilities        37.09\n",
       "dtype: float64"
      ]
     },
     "execution_count": 7,
     "metadata": {},
     "output_type": "execute_result"
    }
   ],
   "source": [
    "# percentage of Level 2 missing data by column\n",
    "round(df_0_X[level_2_mask].isnull().sum()/df_0_X[level_2_mask].shape[0]*100,2)"
   ]
  },
  {
   "cell_type": "markdown",
   "metadata": {},
   "source": [
    "There are 6 main \"Level 2\" (branched 3 times from the initial node) categories in which data may be missing (others are sub-categories of these):\n",
    "- Intangible/Tangible fixed assets\n",
    "- Stock/Debtors\n",
    "- Other Current assets\n",
    "- Capital/Other shareholders funds\n",
    "- Long term debt/Other non-current liabilities\n",
    "- Loans/Creditors"
   ]
  },
  {
   "cell_type": "code",
   "execution_count": 6,
   "metadata": {},
   "outputs": [],
   "source": [
    "df_0__ = df_0_X[['Intangible fixed assets','Stock','Other current assets',\\\n",
    "                 'Other shareholders funds','Long term debt','Loans']]\n",
    "df_bool = df_0__.isnull()#dh_0.__dict__"
   ]
  },
  {
   "cell_type": "code",
   "execution_count": 7,
   "metadata": {
    "scrolled": true
   },
   "outputs": [
    {
     "data": {
      "image/png": "[encoded data removed]",
      "text/plain": [
       "<Figure size 432x288 with 2 Axes>"
      ]
     },
     "metadata": {},
     "output_type": "display_data"
    }
   ],
   "source": [
    "import seaborn as sns; sns.set()\n",
    "ax = sns.heatmap(df_bool.corr(),annot=True)"
   ]
  },
  {
   "cell_type": "markdown",
   "metadata": {},
   "source": [
    "The correlation between the occurrencies of missing data among these 6 categories shows that when some info is missing on the asset side (current or non-current), it is likely that also others are missing, while there is not a significant correlation between info on the asset side and on the liabilities side, and within this last group.\n",
    "\n",
    "Therefore, we identify 3 clusters, which we will then use to compare the classification/regression methods:\n",
    "- \"Asset Side\" missing data (Intangible/Tangible fixed assets, Stock/Debtors, Other Current assets, Capital/Other shareholders funds)\n",
    "- Long Term Debt missing data\n",
    "- Loans missing data"
   ]
  },
  {
   "cell_type": "code",
   "execution_count": 8,
   "metadata": {},
   "outputs": [
    {
     "data": {
      "image/png": "[encoded data removed]",
      "text/plain": [
       "<Figure size 432x288 with 2 Axes>"
      ]
     },
     "metadata": {},
     "output_type": "display_data"
    }
   ],
   "source": [
    "df_bool_2 = df_bool\n",
    "df_bool_2['Rating'] = df0_y['Rating']\n",
    "df_bool_2['Asset Side'] = df_bool_2[['Intangible fixed assets','Stock',\\\n",
    "                                    'Other current assets','Other shareholders funds']].any(axis='columns')\n",
    "df_bool_2 = df_bool_2.drop(['Intangible fixed assets','Stock','Other current assets','Other shareholders funds'], axis=1)\n",
    "df_bool_2 = df_bool_2[['Asset Side','Long term debt','Loans','Rating']]\n",
    "\n",
    "# plot correlation heatmap\n",
    "ax = sns.heatmap(df_bool_2.corr(),annot=True)"
   ]
  },
  {
   "cell_type": "markdown",
   "metadata": {},
   "source": [
    "From a first analysis, it appears as the missing information has little correlation with the credit rating, with the maximum impact imputable to lack of Loans information. "
   ]
  },
  {
   "cell_type": "code",
   "execution_count": 9,
   "metadata": {},
   "outputs": [],
   "source": [
    "# PART 1: NN on full database (with missing data)"
   ]
  },
  {
   "cell_type": "markdown",
   "metadata": {},
   "source": [
    "# First Method (NN)\n",
    "\n",
    "Rating classes are considered a linear scale from 1 (D) to 10 (AAA). The classification problem is therefore transformed into a regression one.\n",
    "\n",
    "The attribute condensed_classes of the DataHandler() class allows to lump rating classes at the extremes (AAA/AA/A, and CC/C/D), since they have few values.\n",
    "\n",
    "The NN regressor from class Net() are based on pytorch.\n",
    "NNs can have a variabler number of Linear layers (maximum 5).\n",
    "If load_net_params==1 a saved instance is loaded and all parameters overwritten. Training is automatically run on GPU if Cuda is available."
   ]
  },
  {
   "cell_type": "code",
   "execution_count": 17,
   "metadata": {},
   "outputs": [
    {
     "name": "stdout",
     "output_type": "stream",
     "text": [
      "Running on the GPU\n"
     ]
    }
   ],
   "source": [
    "path = os.path.abspath(os.getcwd())\n",
    "path_log = path + '\\\\log'\n",
    "\n",
    "net_name = 'net_6'\n",
    "load_net_params = False\n",
    "train_net       = True\n",
    "save_net_params = False\n",
    "\n",
    "# verify if it is possible to run code on the GPU\n",
    "if torch.cuda.is_available():\n",
    "    device = torch.device(\"cuda:0\")  # you can continue going on here, like cuda:1 cuda:2....etc. \n",
    "    print(\"Running on the GPU\")\n",
    "else:\n",
    "    device = torch.device(\"cpu\")\n",
    "    print(\"Running on the CPU\")"
   ]
  },
  {
   "cell_type": "code",
   "execution_count": 18,
   "metadata": {},
   "outputs": [],
   "source": [
    "# use data_handler Class to load training and test data\n",
    "dh = DataHandler()\n",
    "\n",
    "dh.complete_only = False\n",
    "dh.incomplete_only = False\n",
    "dh.full_db = True\n",
    "dh.fill_nans_as_zeros = True\n",
    "dh.remove_incomplete_y = True\n",
    "\n",
    "dh.ratios_db = False          #if True: uses ratios DB instead\n",
    "dh.condensed_classes = True  #if True: uses unique rating classes for AAA/AA/A and CC/C/D\n",
    "dh.SME_only = True\n",
    "\n",
    "dh.normalize_features = True\n",
    "dh.NACE_classification = True\n",
    "\n",
    "df_X,df_y = dh.load_as_pandas()\n",
    "X,y       = dh.load_as_numpy()"
   ]
  },
  {
   "cell_type": "markdown",
   "metadata": {},
   "source": [
    "NN is trained/tested on the full database (including entries with missing features), with min-Max normalized features. For the missing data, NaNs are replaced with 0. "
   ]
  },
  {
   "cell_type": "code",
   "execution_count": 19,
   "metadata": {},
   "outputs": [],
   "source": [
    "#generate Torch dataset\n",
    "torch_gen = TorchDatasetsGenerator(0.2)\n",
    "train_X, train_y, test_X, test_y = torch_gen.generate_torch_dataset(X,y)"
   ]
  },
  {
   "cell_type": "code",
   "execution_count": 20,
   "metadata": {},
   "outputs": [],
   "source": [
    "#initialize NN\n",
    "if load_net_params:\n",
    "    net = Net()    \n",
    "    net.load_net_params(path_log,net_name)\n",
    "else:\n",
    "    N_inputs = X.shape[1] \n",
    "    N_outputs = 1\n",
    "    net = Net(N_inputs , 2*N_outputs, 4*N_inputs , 2*N_inputs,N_inputs, 8)\n",
    "    # network structure only needed in first initialization, not for loaded networks\n",
    "\n",
    "net.lr = 0.001\n",
    "net.BATCH_SIZE = 600\n",
    "net.device = device\n",
    "net.to(device)\n",
    "net.weights_dict = generate_weights_dict(dh.condensed_classes)"
   ]
  },
  {
   "cell_type": "code",
   "execution_count": 21,
   "metadata": {},
   "outputs": [
    {
     "name": "stderr",
     "output_type": "stream",
     "text": [
      "  0%|                                                                                          | 0/400 [00:00<?, ?it/s]C:\\Users\\enric\\Anaconda3\\lib\\site-packages\\torch\\nn\\modules\\loss.py:431: UserWarning: Using a target size (torch.Size([5903, 1])) that is different to the input size (torch.Size([5903, 2])). This will likely lead to incorrect results due to broadcasting. Please ensure they have the same size.\n",
      "  return F.mse_loss(input, target, reduction=self.reduction)\n",
      "100%|████████████████████████████████████████████████████████████████████████████████| 400/400 [02:45<00:00,  2.42it/s]\n"
     ]
    }
   ],
   "source": [
    "# (re-)train NN\n",
    "if train_net:\n",
    "    net.device = device\n",
    "    net.to(device)\n",
    "    net.EPOCHS = 400\n",
    "    net.train_my_nn(train_X, train_y, test_X, test_y)"
   ]
  },
  {
   "cell_type": "markdown",
   "metadata": {},
   "source": [
    "Training and Test losses are normalized with respect to the max value.\n",
    "\n",
    "They are two different functions:\n",
    "\n",
    "- Training Loss is done using a weighted MSE, where errors in classes with fewer samples (AAA/AA/A and CC/C/D) are weighted more\n",
    "- Test Loss is plain MSE"
   ]
  },
  {
   "cell_type": "code",
   "execution_count": 22,
   "metadata": {},
   "outputs": [
    {
     "data": {
      "text/plain": [
       "<Figure size 432x288 with 0 Axes>"
      ]
     },
     "metadata": {},
     "output_type": "display_data"
    },
    {
     "data": {
      "image/png": "[encoded data removed]",
      "text/plain": [
       "<Figure size 432x288 with 1 Axes>"
      ]
     },
     "metadata": {},
     "output_type": "display_data"
    }
   ],
   "source": [
    "# plot (normalized) training history\n",
    "net.plot_training_log(10)"
   ]
  },
  {
   "cell_type": "markdown",
   "metadata": {},
   "source": [
    "## Prediction Results"
   ]
  },
  {
   "cell_type": "code",
   "execution_count": 23,
   "metadata": {},
   "outputs": [],
   "source": [
    "# calculate prediction on test sample test_X, test_y\n",
    "pred_y,accuracy = net.run_test_prediction(test_X, test_y, dh.condensed_classes, print_acc = False)\n"
   ]
  },
  {
   "cell_type": "markdown",
   "metadata": {},
   "source": [
    "The NN regressor is evaluated against the test sample (20% of the total).\n",
    "Accuracy and confusion matrix are shown below."
   ]
  },
  {
   "cell_type": "code",
   "execution_count": 24,
   "metadata": {},
   "outputs": [
    {
     "name": "stdout",
     "output_type": "stream",
     "text": [
      "Accuracy_0: Percentage of instances where exact class is detected\n",
      "Accuracy_1: Percentage of instances where exact class or neighbouring class is detected\n",
      " \n",
      "Accuracy_0 = 74.3%\n",
      "Accuracy_1 = 98.68%\n",
      "\n",
      "Average prediction deviation: 0.04\n"
     ]
    }
   ],
   "source": [
    "print_accuracies(test_y.numpy(), pred_y)\n",
    "\n",
    "#average deviation in the prediction\n",
    "print('')\n",
    "print(f'Average prediction deviation: {round(np.average(pred_y.reshape(-1,1)-test_y.numpy().reshape(-1,1)),2)}')"
   ]
  },
  {
   "cell_type": "code",
   "execution_count": 25,
   "metadata": {},
   "outputs": [
    {
     "data": {
      "image/png": "[encoded data removed]",
      "text/plain": [
       "<Figure size 864x576 with 2 Axes>"
      ]
     },
     "metadata": {},
     "output_type": "display_data"
    }
   ],
   "source": [
    "# plot confusion matrix\n",
    "plot_confusion_matrix(test_y, pred_y, dh.condensed_classes)"
   ]
  },
  {
   "cell_type": "markdown",
   "metadata": {},
   "source": [
    "For different splits Train/Test, Accuracy in the prediction of the test data-set is in the 70%-75% range. If the selection of the neighbouring class is tolerated, Accuracy increases to ~99%.\n",
    "\n",
    "The average prediction error is close to 0 (-0.04). That could mean that the NN ''learned'' how to assign the correct class in average, without introducing bias."
   ]
  },
  {
   "cell_type": "code",
   "execution_count": 26,
   "metadata": {},
   "outputs": [],
   "source": [
    "# save network parameters\n",
    "if save_net_params:\n",
    "    net.save_net_params(path_log,net_name)"
   ]
  },
  {
   "cell_type": "markdown",
   "metadata": {},
   "source": [
    "### Results by type of missing data"
   ]
  },
  {
   "cell_type": "code",
   "execution_count": 27,
   "metadata": {},
   "outputs": [
    {
     "name": "stdout",
     "output_type": "stream",
     "text": [
      "Accuracy_0: Percentage of instances where exact class is detected\n",
      "Accuracy_1: Percentage of instances where exact class or neighbouring class is detected\n",
      " \n",
      "Accuracy_0 = 71.05%\n",
      "Accuracy_1 = 98.5%\n",
      "Average prediction deviation: -0.03\n"
     ]
    }
   ],
   "source": [
    "# select test samples with Asset-side missing data\n",
    "X_nn_as = df_X[df_bool_2['Asset Side'].values].values\n",
    "y_nn_as = df_y[df_bool_2['Asset Side'].values].values\n",
    "# convert to torch\n",
    "torch_gen = TorchDatasetsGenerator(1.0)\n",
    "train_X, train_y, test_X, test_y = torch_gen.generate_torch_dataset(X_nn_as,y_nn_as)\n",
    "# predict on test-set\n",
    "pred_as_y,accuracy = net.run_test_prediction(test_X, test_y, dh.condensed_classes, print_acc = False)\n",
    "#print accuracies\n",
    "print_accuracies(y_nn_as, pred_as_y)\n",
    "\n",
    "#average deviation in the prediction\n",
    "print(f'Average prediction deviation: {round(np.average(pred_as_y-y_nn_as),2)}')"
   ]
  },
  {
   "cell_type": "code",
   "execution_count": 28,
   "metadata": {},
   "outputs": [
    {
     "name": "stdout",
     "output_type": "stream",
     "text": [
      "Accuracy_0: Percentage of instances where exact class is detected\n",
      "Accuracy_1: Percentage of instances where exact class or neighbouring class is detected\n",
      " \n",
      "Accuracy_0 = 62.5%\n",
      "Accuracy_1 = 100.0%\n",
      "Average prediction deviation: -0.19\n"
     ]
    }
   ],
   "source": [
    "# select test samples with Long Term Debt missing data\n",
    "X_nn_ltd = df_X[df_bool_2['Long term debt'].values].values\n",
    "y_nn_ltd = df_y[df_bool_2['Long term debt'].values].values\n",
    "# convert to torch\n",
    "torch_gen = TorchDatasetsGenerator(1.0)\n",
    "train_X, train_y, test_X, test_y = torch_gen.generate_torch_dataset(X_nn_ltd,y_nn_ltd)\n",
    "# predict on test-set\n",
    "pred_ltd_y,accuracy = net.run_test_prediction(test_X, test_y, dh.condensed_classes, print_acc = False)\n",
    "#print accuracies\n",
    "print_accuracies(y_nn_ltd, pred_ltd_y)\n",
    "\n",
    "#average deviation in the prediction\n",
    "print(f'Average prediction deviation: {round(np.average(pred_ltd_y-y_nn_ltd),2)}')"
   ]
  },
  {
   "cell_type": "code",
   "execution_count": 29,
   "metadata": {},
   "outputs": [
    {
     "name": "stdout",
     "output_type": "stream",
     "text": [
      "Accuracy_0: Percentage of instances where exact class is detected\n",
      "Accuracy_1: Percentage of instances where exact class or neighbouring class is detected\n",
      " \n",
      "Accuracy_0 = 79.2%\n",
      "Accuracy_1 = 99.56%\n",
      "Average prediction deviation: -0.02\n"
     ]
    }
   ],
   "source": [
    "# select test samples with Loans missing data\n",
    "X_nn_loan = df_X[df_bool_2['Loans'].values].values\n",
    "y_nn_loan = df_y[df_bool_2['Loans'].values].values\n",
    "# convert to torch\n",
    "torch_gen = TorchDatasetsGenerator(1.0)\n",
    "train_X, train_y, test_X, test_y = torch_gen.generate_torch_dataset(X_nn_loan,y_nn_loan)\n",
    "# predict on test-set\n",
    "pred_loan_y,accuracy = net.run_test_prediction(test_X, test_y, dh.condensed_classes, print_acc = False)\n",
    "#print accuracies\n",
    "print_accuracies(y_nn_loan, pred_loan_y)\n",
    "\n",
    "#average deviation in the prediction\n",
    "print(f'Average prediction deviation: {round(np.average(pred_loan_y-y_nn_loan),2)}')"
   ]
  },
  {
   "cell_type": "markdown",
   "metadata": {},
   "source": [
    "In the NN regressor case, predictions when Long Term Debt information is missing generated the largest percentage of misclassifications.\n",
    "\n",
    "In particular, for the lowest class half of the companies were rated in class B, instead of (CC/C/D). This might be due to a conservative approach used by MF, which might have assumed a \"worst case scenario\" for them. "
   ]
  },
  {
   "cell_type": "code",
   "execution_count": 30,
   "metadata": {},
   "outputs": [
    {
     "data": {
      "text/plain": [
       "'\\n# plot confusion matrix\\nplot_confusion_matrix(y_nn_ltd, pred_ltd_y, dh_test.condensed_classes)\\n'"
      ]
     },
     "execution_count": 30,
     "metadata": {},
     "output_type": "execute_result"
    }
   ],
   "source": [
    "# confusion matric Long Term Debt\n",
    "\"\"\"\n",
    "# plot confusion matrix\n",
    "plot_confusion_matrix(y_nn_ltd, pred_ltd_y, dh_test.condensed_classes)\n",
    "\"\"\""
   ]
  },
  {
   "cell_type": "markdown",
   "metadata": {},
   "source": [
    "# Second Method (EM Imputation + Random Forest Classifier)"
   ]
  },
  {
   "cell_type": "code",
   "execution_count": 31,
   "metadata": {},
   "outputs": [],
   "source": [
    "# PART 2: EM imputation + Random Forest Classifier"
   ]
  },
  {
   "cell_type": "code",
   "execution_count": 32,
   "metadata": {},
   "outputs": [],
   "source": [
    "# use data_handler Class to load training data\n",
    "dh_test = DataHandler()\n",
    "dh_test.full_db = False\n",
    "dh_test.complete_only = True\n",
    "dh_test.incomplete_only = False\n",
    "dh_test.ratios_db = True          #if True: uses ratios DB instead\n",
    "dh_test.SME_only = True\n",
    "dh_test.normalize_features = False\n",
    "dh_test.NACE_classification = True\n",
    "\n",
    "# initially consider all rating classes\n",
    "dh_test.condensed_classes = False\n",
    "df_X_all_classes ,df_y_all_classes = dh_test.load_as_pandas()\n",
    "\n",
    "# then group rating classes with few elements \n",
    "dh_test.condensed_classes = True\n",
    "\n",
    "X_ ,y_ = dh_test.load_as_numpy()\n",
    "df_X_ ,df_y_ = dh_test.load_as_pandas()"
   ]
  },
  {
   "cell_type": "markdown",
   "metadata": {},
   "source": [
    "## Financial Ratios Definition\n",
    "\n",
    "In the second approach, financial ratios are obtained from the Balance Sheet items in the original database.\n",
    "\n",
    "In order to compute the ROA and ROE indicators, a proxi for the Net Income is calculated as the difference between Total Equity of two consecutive years (under the assumption that all earnings and losses are retained).\n",
    "\n",
    "Moreover, without information about Revenues and Cost of Goods Sold, the Cash Conversion Cycle is aproximated as:\n",
    "\n",
    "(Inventories + Account Receivables - Account Payables) / Total assets\n",
    "\n",
    "This CCC proxi is heavily flawed, and differntly from the CCC it doesn't provide any indicator on the average conversion time of items into cash. Nevertheless, it provides an indicator of the overall impact of the non-cash short term accounts, normalized to the size of the company. \n",
    "\n",
    "The ratios are listed below:"
   ]
  },
  {
   "cell_type": "code",
   "execution_count": 33,
   "metadata": {},
   "outputs": [
    {
     "name": "stdout",
     "output_type": "stream",
     "text": [
      "Total assets\n",
      "Current Ratio\n",
      "Quick Ratio\n",
      "Cash Ratio\n",
      "ROA\n",
      "ROE\n",
      "D/E\n",
      "ROIC\n",
      "Tang/Total Assets\n",
      "CCC proxi\n"
     ]
    }
   ],
   "source": [
    "fin_ratios = df_X_.columns[0:10]\n",
    "print(*fin_ratios, sep = \"\\n\")"
   ]
  },
  {
   "cell_type": "markdown",
   "metadata": {},
   "source": [
    "## RF Training\n",
    "\n",
    "The training of the Random Forest classifier is re-balanced, in order to be able to have acceptable predictions also in case of rating classes with few samples. Classes are divided in \"frequent\" (BB, BBB), \"common\" (B, CCC) and \"unusual\" (AAA/AA/A, CC/C/D).\n",
    "\n",
    "The right proporsion in the samples belonging to different classes is chosen via trial and error approach.\n",
    "\n",
    "Here, the proportion used is 10/8/3, using 5250 randomly chosen samples from the complete portion of the database. In total, 52,84% of the available \"complete\" entries are used."
   ]
  },
  {
   "cell_type": "code",
   "execution_count": 35,
   "metadata": {},
   "outputs": [
    {
     "name": "stdout",
     "output_type": "stream",
     "text": [
      "Portion of complete database used for training: 52.84%\n"
     ]
    }
   ],
   "source": [
    "# define sampling of classes in order to have a weighted-training of the random forest classifier\n",
    "# (otherwise samples distribution too imbalanced)\n",
    "\n",
    "samples_unit = 250\n",
    "weights_classes = [10,8,3]  #proportion of frequent, common, and unusual samples in training phase\n",
    "\n",
    "\n",
    "idx_unusual = df_y_['Rating'].isin([3,8])\n",
    "indices_unusual = random.sample(list(idx_unusual[idx_unusual].index), weights_classes[2]*samples_unit)\n",
    "#idx_unusual[idx_unusual].index.tolist()\n",
    "\n",
    "idx_frequent = df_y_['Rating'].isin([6,7])\n",
    "indices_frequent = random.sample(list(idx_frequent[idx_frequent].index), weights_classes[0]*samples_unit)\n",
    "\n",
    "idx_common = df_y_['Rating'].isin([4,5])\n",
    "indices_common = random.sample(list(idx_common[idx_common].index), weights_classes[1]*samples_unit)\n",
    "\n",
    "#indices_frequent\n",
    "indices =  indices_unusual + indices_frequent + indices_common\n",
    "random.shuffle(indices)\n",
    "\n",
    "portion_used = round(len(indices)/len(y_)*100,2)\n",
    "print(f'Portion of complete database used for training: {portion_used}%')\n"
   ]
  },
  {
   "cell_type": "code",
   "execution_count": 36,
   "metadata": {},
   "outputs": [
    {
     "data": {
      "text/plain": [
       "<matplotlib.legend.Legend at 0x25b042f8a48>"
      ]
     },
     "execution_count": 36,
     "metadata": {},
     "output_type": "execute_result"
    },
    {
     "data": {
      "image/png": "[encoded data removed]",
      "text/plain": [
       "<Figure size 432x288 with 1 Axes>"
      ]
     },
     "metadata": {},
     "output_type": "display_data"
    }
   ],
   "source": [
    "# plot distribution of samples across classes\n",
    "\n",
    "bins = [-0.5]+np.arange(1,12)\n",
    "\n",
    "a_heights, a_bins = np.histogram(df_y_all_classes, bins=bins)\n",
    "b_heights, b_bins = np.histogram(df_y_, bins=bins)\n",
    "c_heights, c_bins = np.histogram(df_y_.loc[indices], bins=bins)\n",
    "\n",
    "fig, ax = plt.subplots()\n",
    "labels = np.flipud(['(AAA)', '(AA)', '(A) \\n AAA/AA/A' , 'BBB', 'BB', 'B', 'CCC', '(CC) \\n CC/C/D' , '(C)','(D)'])\n",
    "plt.xticks(range(1,11), labels)\n",
    "\n",
    "width = (a_bins[1] - a_bins[0])/4\n",
    "\n",
    "ax.bar(a_bins[:-1]-1*width+0.5, a_heights, width=width, label = 'Original Database', facecolor='cornflowerblue')\n",
    "ax.bar(b_bins[:-1]+0*width+0.5, b_heights, width=width, label = 'Grouped Classes', facecolor='seagreen')\n",
    "ax.bar(c_bins[:-1]+1*width+0.5, c_heights, width=width,label = 'Random Forest Training', facecolor='red')\n",
    "\n",
    "ax.legend(loc='upper left', frameon=False)"
   ]
  },
  {
   "cell_type": "markdown",
   "metadata": {},
   "source": [
    "In the diagram above, the frequency of entries in the different classes is shown for:\n",
    "\n",
    "- Original Database (complete portion of the database)\n",
    "- Grouped Classes (the one above where AAA/AA/A and CC/C/D are lumped)\n",
    "- Random Forest Trining-set"
   ]
  },
  {
   "cell_type": "code",
   "execution_count": 37,
   "metadata": {},
   "outputs": [],
   "source": [
    "# train/test split on the complete portion of the database\n",
    "\n",
    "X_train = df_X_.loc[indices].values\n",
    "y_train = df_y_.loc[indices].values\n",
    "\n",
    "#X_test_db_complete = X_\n",
    "#y_test_db_complete = y_\n",
    "X_test_db_complete= df_X_.drop(indices).values\n",
    "y_test_db_complete= df_y_.drop(indices).values"
   ]
  },
  {
   "cell_type": "code",
   "execution_count": 38,
   "metadata": {},
   "outputs": [
    {
     "data": {
      "text/plain": [
       "RandomForestClassifier(bootstrap=True, ccp_alpha=0.0, class_weight=None,\n",
       "                       criterion='gini', max_depth=None, max_features='auto',\n",
       "                       max_leaf_nodes=None, max_samples=None,\n",
       "                       min_impurity_decrease=0.0, min_impurity_split=None,\n",
       "                       min_samples_leaf=1, min_samples_split=2,\n",
       "                       min_weight_fraction_leaf=0.0, n_estimators=300,\n",
       "                       n_jobs=None, oob_score=False, random_state=85, verbose=0,\n",
       "                       warm_start=False)"
      ]
     },
     "execution_count": 38,
     "metadata": {},
     "output_type": "execute_result"
    }
   ],
   "source": [
    "#RANDOM FOREST TRAINING\n",
    "random_state = np.random.randint(90)\n",
    "\n",
    "model = RandomForestClassifier(n_estimators=300, random_state=random_state)\n",
    "model.fit(X_train,y_train.reshape(y_train.shape[0],))"
   ]
  },
  {
   "cell_type": "markdown",
   "metadata": {},
   "source": [
    "The RF predicts correctly:\n",
    "- 100% of the samples used for the training\n",
    "- 75%-80% of complete samples not used for training (exact prediction)\n",
    "- 98%-99% with one class of tolerance\n",
    "These results are outerforming the NN when missing data is not considered, with a comparable (very low) bias in the prediction (-0.04). "
   ]
  },
  {
   "cell_type": "code",
   "execution_count": 39,
   "metadata": {},
   "outputs": [
    {
     "name": "stdout",
     "output_type": "stream",
     "text": [
      "Accuracy (training-set): 100.0%\n",
      "\n",
      "Accuracy_0: Percentage of instances where exact class is detected\n",
      "Accuracy_1: Percentage of instances where exact class or neighbouring class is detected\n",
      " \n",
      "Accuracy_0 = 77.7%\n",
      "Accuracy_1 = 97.99%\n",
      "\n",
      "Average prediction deviation: -0.04\n"
     ]
    }
   ],
   "source": [
    "# ACCURACY COMPUTATIONS\n",
    "\n",
    "m_sc_tr = model.score(X_train, y_train)\n",
    "m_sc_tr = round(m_sc_tr*100,2)\n",
    "print(f'Accuracy (training-set): {m_sc_tr}%')\n",
    "print('')\n",
    "\n",
    "\"\"\"\n",
    "m_sc_test = model.score(X_test_db_complete, y_test_db_complete)\n",
    "m_sc_test = round(m_sc_test*100,2)\n",
    "print(f'Accuracy (non-training complete fields): {m_sc_test}%')\n",
    "\"\"\"\n",
    "\n",
    "# predict on complete portion of the test-set\n",
    "y_pred_db_complete = model.predict(X_test_db_complete)\n",
    "\n",
    "print_accuracies(y_test_db_complete, y_pred_db_complete)\n",
    "\n",
    "#average deviation in the prediction (test dataset)\n",
    "print('')\n",
    "print(f'Average prediction deviation: {round(np.average(y_pred_db_complete.reshape(-1,1)-y_test_db_complete.reshape(-1,1)),2)}')"
   ]
  },
  {
   "cell_type": "markdown",
   "metadata": {},
   "source": [
    "##  Data Imputation\n",
    "\n",
    "Now the full database has to be imputed, in order to feed the RF classifier. EM method is used for imputation (implementation in the folder db_generation).\n",
    "\n",
    "This procedure occurs in 2 steps:\n",
    "1. the entire database is used for the imputation phase\n",
    "2. the entries which were originally used for the training of the RF classifier are dropped (in this way the test phase doesn't include any sample already used for the training)"
   ]
  },
  {
   "cell_type": "code",
   "execution_count": 40,
   "metadata": {},
   "outputs": [],
   "source": [
    "#TESTING on IMPUTED Database, not considering entries used for the training\n",
    "dh_test.imputed_db = True\n",
    "dh_test.full_db = True\n",
    "\n",
    "df_X_imp ,df_y_imp = dh_test.load_as_pandas()\n",
    "\n",
    "X_imp_test = df_X_imp.drop(indices,axis=0).values\n",
    "y_imp_test = df_y_imp.drop(indices,axis=0).values\n"
   ]
  },
  {
   "cell_type": "markdown",
   "metadata": {},
   "source": [
    "## Prediction on the Imputed Test-set"
   ]
  },
  {
   "cell_type": "code",
   "execution_count": 41,
   "metadata": {},
   "outputs": [],
   "source": [
    "# predict on imputed test-set\n",
    "y_imp_pred = model.predict(X_imp_test)"
   ]
  },
  {
   "cell_type": "code",
   "execution_count": 43,
   "metadata": {},
   "outputs": [
    {
     "name": "stdout",
     "output_type": "stream",
     "text": [
      "Accuracy_0: Percentage of instances where exact class is detected\n",
      "Accuracy_1: Percentage of instances where exact class or neighbouring class is detected\n",
      " \n",
      "Accuracy_0 = 68.84%\n",
      "Accuracy_1 = 94.17%\n",
      "\n",
      "Average prediction deviation: 0.17\n"
     ]
    }
   ],
   "source": [
    "print_accuracies(y_imp_test, y_imp_pred)\n",
    "\n",
    "#average deviation in the prediction\n",
    "print('')\n",
    "print(f'Average prediction deviation: {round(np.average(y_imp_pred.reshape(-1,1)-y_imp_test.reshape(-1,1)),2)}')"
   ]
  },
  {
   "cell_type": "code",
   "execution_count": 44,
   "metadata": {},
   "outputs": [
    {
     "data": {
      "image/png": "[encoded data removed]",
      "text/plain": [
       "<Figure size 864x576 with 2 Axes>"
      ]
     },
     "metadata": {},
     "output_type": "display_data"
    }
   ],
   "source": [
    "# plot confusion matrix\n",
    "plot_confusion_matrix(y_imp_test, y_imp_pred, dh_test.condensed_classes)"
   ]
  },
  {
   "cell_type": "markdown",
   "metadata": {},
   "source": [
    "Accuracy scores are not much worse than in the NN case, but the average prediction error is considerably higher (0.16). \n",
    "\n",
    "That could mean that the NN ''learned'' how to assign the correct class in average, without introducing bias."
   ]
  },
  {
   "cell_type": "markdown",
   "metadata": {},
   "source": [
    "### Results by type of missing data"
   ]
  },
  {
   "cell_type": "code",
   "execution_count": 45,
   "metadata": {},
   "outputs": [
    {
     "name": "stdout",
     "output_type": "stream",
     "text": [
      "Accuracy_0: Percentage of instances where exact class is detected\n",
      "Accuracy_1: Percentage of instances where exact class or neighbouring class is detected\n",
      " \n",
      "Accuracy_0 = 66.82%\n",
      "Accuracy_1 = 93.05%\n",
      "Average prediction deviation: 0.09\n"
     ]
    }
   ],
   "source": [
    "# select test samples with Asset-side missing data\n",
    "X_imp_as = df_X_imp[df_bool_2['Asset Side'].values].values\n",
    "y_imp_as = df_y_imp[df_bool_2['Asset Side'].values].values\n",
    "# predict on test-set\n",
    "y_imp_as_pred = model.predict(X_imp_as)\n",
    "#print accuracies\n",
    "print_accuracies(y_imp_as, y_imp_as_pred)\n",
    "\n",
    "#average deviation in the prediction\n",
    "print(f'Average prediction deviation: {round(np.average(y_imp_as_pred-y_imp_as),2)}')"
   ]
  },
  {
   "cell_type": "code",
   "execution_count": 46,
   "metadata": {},
   "outputs": [
    {
     "name": "stdout",
     "output_type": "stream",
     "text": [
      "Accuracy_0: Percentage of instances where exact class is detected\n",
      "Accuracy_1: Percentage of instances where exact class or neighbouring class is detected\n",
      " \n",
      "Accuracy_0 = 56.25%\n",
      "Accuracy_1 = 90.62%\n",
      "Average prediction deviation: -0.22\n"
     ]
    }
   ],
   "source": [
    "# select test samples with Long Term Debt missing data\n",
    "X_imp_ltd = df_X_imp[df_bool_2['Long term debt'].values].values\n",
    "y_imp_ltd = df_y_imp[df_bool_2['Long term debt'].values].values\n",
    "# predict on test-set\n",
    "y_imp_ltd_pred = model.predict(X_imp_ltd)\n",
    "#print accuracies\n",
    "print_accuracies(y_imp_ltd, y_imp_ltd_pred)\n",
    "\n",
    "#average deviation in the prediction\n",
    "print(f'Average prediction deviation: {round(np.average(y_imp_ltd_pred-y_imp_ltd),2)}')"
   ]
  },
  {
   "cell_type": "code",
   "execution_count": 47,
   "metadata": {},
   "outputs": [
    {
     "name": "stdout",
     "output_type": "stream",
     "text": [
      "Accuracy_0: Percentage of instances where exact class is detected\n",
      "Accuracy_1: Percentage of instances where exact class or neighbouring class is detected\n",
      " \n",
      "Accuracy_0 = 66.62%\n",
      "Accuracy_1 = 92.56%\n",
      "Average prediction deviation: 0.26\n"
     ]
    }
   ],
   "source": [
    "# select test samples with Loans missing data\n",
    "X_imp_loan = df_X_imp[df_bool_2['Loans'].values].values\n",
    "y_imp_loan = df_y_imp[df_bool_2['Loans'].values].values\n",
    "# predict on test-set\n",
    "y_imp_loan_pred = model.predict(X_imp_loan)\n",
    "#print accuracies\n",
    "print_accuracies(y_imp_loan, y_imp_loan_pred)\n",
    "\n",
    "#average deviation in the prediction\n",
    "print(f'Average prediction deviation: {round(np.average(y_imp_loan_pred-y_imp_loan),2)}')"
   ]
  },
  {
   "cell_type": "markdown",
   "metadata": {},
   "source": [
    "Also in the EM+RF case, predictions when Long Term Debt information is missing generated the largest prcentage of misclassifications.\n",
    "\n",
    "In this case, though, there is a considerably larger proportion of companies which were classified in a higher class (keeping in mind that the performance of the NN regressor is expected to perform better, due to the fact that a portion of the evaluated imputs were also used for the training).\n",
    "\n",
    "In general, one can notice how, although the accuracy scores are not too far away from the NN case, the classifications tend to have a considerable bias when the imputed data is analyzed."
   ]
  },
  {
   "cell_type": "code",
   "execution_count": 48,
   "metadata": {},
   "outputs": [
    {
     "data": {
      "text/plain": [
       "'\\n# plot confusion matrix\\nplot_confusion_matrix(y_imp_ltd, y_imp_ltd_pred, dh_test.condensed_classes)\\n\\n# plot confusion matrix\\nplot_confusion_matrix(y_imp_loan, y_imp_loan_pred, dh_test.condensed_classes)\\n'"
      ]
     },
     "execution_count": 48,
     "metadata": {},
     "output_type": "execute_result"
    }
   ],
   "source": [
    "# confusion matrix for prediction in case of Long Term Debt and Loans \n",
    "\n",
    "\"\"\"\n",
    "# plot confusion matrix\n",
    "plot_confusion_matrix(y_imp_ltd, y_imp_ltd_pred, dh_test.condensed_classes)\n",
    "\n",
    "# plot confusion matrix\n",
    "plot_confusion_matrix(y_imp_loan, y_imp_loan_pred, dh_test.condensed_classes)\n",
    "\"\"\""
   ]
  },
  {
   "cell_type": "markdown",
   "metadata": {},
   "source": [
    "# CONCLUSIONS\n",
    "\n",
    "The NN expectedly performs better than the second method. By construction, a properly trained NN is able to capture the relations within the database, although it is not trivial to explain them.\n",
    "\n",
    "The second method consists of 4 steps:\n",
    "1. definition of financial ratios and proxies to reduce the DB dimensionality\n",
    "2. training of the RF classifier (simpler than NN, but efficient on lower-dimensional datasets) on the complete portion of the database, to capture relations between financial ratios and credit rating\n",
    "3. imputation of missing values\n",
    "4. and prediction on the RF of the imputed dataset (minus training data)\n",
    "\n",
    "While the prediction output of the NN is excellent (~75% accuracy, ~98% of predictions maximum deviation is a neighbouring class), the EM+RF method comes close in both accuracy measures (~69%, ~95%).\n",
    "\n"
   ]
  },
  {
   "cell_type": "markdown",
   "metadata": {},
   "source": [
    "When considering the prediction capability of the two methods in the cases when information was missing, we found out that:\n",
    "- the classification is in line with the average, in the cases where Asset-side or Loans information are missing\n",
    "- performance worsens considerably when Long Term Debt information is missing"
   ]
  },
  {
   "cell_type": "markdown",
   "metadata": {},
   "source": [
    "Overall considerations:\n",
    "- NN uses 80% of the entire database for training\n",
    "- Random Forest is trained on 17% of the full database (two reasons: 1. can't train RF on non verified imputed data, 2. training-set has to be balanced)\n",
    "- given different proportion of information used, EM+RF shows good performance, and seems to validate the choice of financial indicators chosen"
   ]
  },
  {
   "cell_type": "code",
   "execution_count": null,
   "metadata": {},
   "outputs": [],
   "source": []
  }
 ],
 "metadata": {
  "kernelspec": {
   "display_name": "Python (myenv)",
   "language": "python",
   "name": "myenv"
  },
  "language_info": {
   "codemirror_mode": {
    "name": "ipython",
    "version": 3
   },
   "file_extension": ".py",
   "mimetype": "text/x-python",
   "name": "python",
   "nbconvert_exporter": "python",
   "pygments_lexer": "ipython3",
   "version": "3.7.4"
  },
  "toc": {
   "base_numbering": 1,
   "nav_menu": {},
   "number_sections": true,
   "sideBar": true,
   "skip_h1_title": false,
   "title_cell": "Table of Contents",
   "title_sidebar": "Contents",
   "toc_cell": false,
   "toc_position": {},
   "toc_section_display": true,
   "toc_window_display": false
  }
 },
 "nbformat": 4,
 "nbformat_minor": 4
}
